{
  "cells": [
    {
      "cell_type": "code",
      "execution_count": 1,
      "metadata": {
        "id": "slCpcN-FThxB"
      },
      "outputs": [],
      "source": [
        "# Importing the necessary packages\n",
        "import numpy as np                                  # \"Scientific computing\"\n",
        "import scipy.stats as stats                         # Statistical tests\n",
        "\n",
        "import pandas as pd                                 # Data Frame\n",
        "\n",
        "import matplotlib.pyplot as plt                     # Basic visualisation\n",
        "\n",
        "from numpy import mean\n",
        "from numpy import std\n",
        "from numpy import absolute\n",
        "from pandas import read_csv\n",
        "from sklearn.model_selection import cross_val_score\n",
        "from sklearn.model_selection import KFold\n",
        "from sklearn.compose import ColumnTransformer\n",
        "from sklearn.pipeline import Pipeline\n",
        "from sklearn.preprocessing import OneHotEncoder\n",
        "from sklearn.preprocessing import MinMaxScaler"
      ]
    },
    {
      "cell_type": "markdown",
      "metadata": {
        "id": "CTz19HYdTBiO"
      },
      "source": [
        "The data provided contains information about individual study results for mathematics, together with demographic information about the student.\n",
        "Solve each subquest in one cell. Show, if applicable, at the end of each cell first 5 lines of your last result (s)."
      ]
    },
    {
      "cell_type": "code",
      "execution_count": 2,
      "metadata": {
        "colab": {
          "base_uri": "https://localhost:8080/",
          "height": 206
        },
        "id": "Eh3Wk6KxTBiV",
        "outputId": "2c833b13-c5c5-437e-f8a8-664e4ddbcc89"
      },
      "outputs": [
        {
          "data": {
            "text/html": [
              "<div>\n",
              "<style scoped>\n",
              "    .dataframe tbody tr th:only-of-type {\n",
              "        vertical-align: middle;\n",
              "    }\n",
              "\n",
              "    .dataframe tbody tr th {\n",
              "        vertical-align: top;\n",
              "    }\n",
              "\n",
              "    .dataframe thead th {\n",
              "        text-align: right;\n",
              "    }\n",
              "</style>\n",
              "<table border=\"1\" class=\"dataframe\">\n",
              "  <thead>\n",
              "    <tr style=\"text-align: right;\">\n",
              "      <th></th>\n",
              "      <th>StudentID</th>\n",
              "      <th>gender</th>\n",
              "      <th>race/ethnicity</th>\n",
              "      <th>parental level of education</th>\n",
              "    </tr>\n",
              "  </thead>\n",
              "  <tbody>\n",
              "    <tr>\n",
              "      <th>0</th>\n",
              "      <td>0</td>\n",
              "      <td>female</td>\n",
              "      <td>group B</td>\n",
              "      <td>bachelor's degree</td>\n",
              "    </tr>\n",
              "    <tr>\n",
              "      <th>1</th>\n",
              "      <td>1</td>\n",
              "      <td>female</td>\n",
              "      <td>group C</td>\n",
              "      <td>some college</td>\n",
              "    </tr>\n",
              "    <tr>\n",
              "      <th>2</th>\n",
              "      <td>2</td>\n",
              "      <td>female</td>\n",
              "      <td>group B</td>\n",
              "      <td>master's degree</td>\n",
              "    </tr>\n",
              "    <tr>\n",
              "      <th>3</th>\n",
              "      <td>3</td>\n",
              "      <td>male</td>\n",
              "      <td>group A</td>\n",
              "      <td>associate's degree</td>\n",
              "    </tr>\n",
              "    <tr>\n",
              "      <th>4</th>\n",
              "      <td>4</td>\n",
              "      <td>male</td>\n",
              "      <td>group C</td>\n",
              "      <td>some college</td>\n",
              "    </tr>\n",
              "  </tbody>\n",
              "</table>\n",
              "</div>"
            ],
            "text/plain": [
              "   StudentID  gender race/ethnicity parental level of education\n",
              "0          0  female        group B           bachelor's degree\n",
              "1          1  female        group C                some college\n",
              "2          2  female        group B             master's degree\n",
              "3          3    male        group A          associate's degree\n",
              "4          4    male        group C                some college"
            ]
          },
          "execution_count": 2,
          "metadata": {},
          "output_type": "execute_result"
        }
      ],
      "source": [
        "demographic = pd.read_csv('datasets/demographic.csv')\n",
        "demographic.head()"
      ]
    },
    {
      "cell_type": "markdown",
      "metadata": {
        "id": "yJ83DJF4TBiW"
      },
      "source": [
        "Show some general info about the dataset"
      ]
    },
    {
      "cell_type": "code",
      "execution_count": 3,
      "metadata": {
        "colab": {
          "base_uri": "https://localhost:8080/"
        },
        "id": "lWrQHkfGTBiW",
        "outputId": "a23829be-2f6e-48ea-a25d-17d875c591a8"
      },
      "outputs": [
        {
          "name": "stdout",
          "output_type": "stream",
          "text": [
            "<class 'pandas.core.frame.DataFrame'>\n",
            "RangeIndex: 1000 entries, 0 to 999\n",
            "Data columns (total 4 columns):\n",
            " #   Column                       Non-Null Count  Dtype \n",
            "---  ------                       --------------  ----- \n",
            " 0   StudentID                    1000 non-null   int64 \n",
            " 1   gender                       1000 non-null   object\n",
            " 2   race/ethnicity               1000 non-null   object\n",
            " 3   parental level of education  1000 non-null   object\n",
            "dtypes: int64(1), object(3)\n",
            "memory usage: 31.4+ KB\n"
          ]
        }
      ],
      "source": [
        "demographic.info()"
      ]
    },
    {
      "cell_type": "markdown",
      "metadata": {
        "id": "DOgFq5BITBiX"
      },
      "source": [
        "Read in the dataset studentscore.csv"
      ]
    },
    {
      "cell_type": "code",
      "execution_count": 4,
      "metadata": {
        "colab": {
          "base_uri": "https://localhost:8080/",
          "height": 206
        },
        "id": "v4VHliDzTBiY",
        "outputId": "aef8707f-d341-46cc-9e60-c04c532024d1"
      },
      "outputs": [
        {
          "data": {
            "text/html": [
              "<div>\n",
              "<style scoped>\n",
              "    .dataframe tbody tr th:only-of-type {\n",
              "        vertical-align: middle;\n",
              "    }\n",
              "\n",
              "    .dataframe tbody tr th {\n",
              "        vertical-align: top;\n",
              "    }\n",
              "\n",
              "    .dataframe thead th {\n",
              "        text-align: right;\n",
              "    }\n",
              "</style>\n",
              "<table border=\"1\" class=\"dataframe\">\n",
              "  <thead>\n",
              "    <tr style=\"text-align: right;\">\n",
              "      <th></th>\n",
              "      <th>StudentID</th>\n",
              "      <th>lunch</th>\n",
              "      <th>test preparation course</th>\n",
              "      <th>math score</th>\n",
              "    </tr>\n",
              "  </thead>\n",
              "  <tbody>\n",
              "    <tr>\n",
              "      <th>0</th>\n",
              "      <td>0</td>\n",
              "      <td>standard</td>\n",
              "      <td>none</td>\n",
              "      <td>72</td>\n",
              "    </tr>\n",
              "    <tr>\n",
              "      <th>1</th>\n",
              "      <td>1</td>\n",
              "      <td>standard</td>\n",
              "      <td>completed</td>\n",
              "      <td>69</td>\n",
              "    </tr>\n",
              "    <tr>\n",
              "      <th>2</th>\n",
              "      <td>2</td>\n",
              "      <td>standard</td>\n",
              "      <td>none</td>\n",
              "      <td>90</td>\n",
              "    </tr>\n",
              "    <tr>\n",
              "      <th>3</th>\n",
              "      <td>3</td>\n",
              "      <td>free/reduced</td>\n",
              "      <td>none</td>\n",
              "      <td>47</td>\n",
              "    </tr>\n",
              "    <tr>\n",
              "      <th>4</th>\n",
              "      <td>4</td>\n",
              "      <td>standard</td>\n",
              "      <td>none</td>\n",
              "      <td>76</td>\n",
              "    </tr>\n",
              "  </tbody>\n",
              "</table>\n",
              "</div>"
            ],
            "text/plain": [
              "   StudentID         lunch test preparation course  math score\n",
              "0          0      standard                    none          72\n",
              "1          1      standard               completed          69\n",
              "2          2      standard                    none          90\n",
              "3          3  free/reduced                    none          47\n",
              "4          4      standard                    none          76"
            ]
          },
          "execution_count": 4,
          "metadata": {},
          "output_type": "execute_result"
        }
      ],
      "source": [
        "student = pd.read_csv('https://raw.githubusercontent.com/HOGENT-ML/course/main/datasets/studentscore.csv')\n",
        "student.head()"
      ]
    },
    {
      "cell_type": "markdown",
      "metadata": {
        "id": "CwGAUD4NTBiY"
      },
      "source": [
        "Show some general info about the dataset"
      ]
    },
    {
      "cell_type": "code",
      "execution_count": 5,
      "metadata": {
        "colab": {
          "base_uri": "https://localhost:8080/"
        },
        "id": "qbwTpd_OTBiZ",
        "outputId": "6250911c-eb56-4bf8-b68c-3f04be9220f3"
      },
      "outputs": [
        {
          "data": {
            "text/plain": [
              "<bound method DataFrame.info of      StudentID         lunch test preparation course  math score\n",
              "0            0      standard                    none          72\n",
              "1            1      standard               completed          69\n",
              "2            2      standard                    none          90\n",
              "3            3  free/reduced                    none          47\n",
              "4            4      standard                    none          76\n",
              "..         ...           ...                     ...         ...\n",
              "995        995      standard               completed          88\n",
              "996        996  free/reduced                    none          62\n",
              "997        997  free/reduced               completed          59\n",
              "998        998      standard               completed          68\n",
              "999        999  free/reduced                    none          77\n",
              "\n",
              "[1000 rows x 4 columns]>"
            ]
          },
          "execution_count": 5,
          "metadata": {},
          "output_type": "execute_result"
        }
      ],
      "source": [
        "student.info"
      ]
    },
    {
      "cell_type": "markdown",
      "metadata": {
        "id": "0kLmcm2hTBiZ"
      },
      "source": [
        "Merge both data frames so that you have one line left per student.  \n",
        "We are doing an **inner** join on student and demographic, using the column StudentID."
      ]
    },
    {
      "cell_type": "code",
      "execution_count": null,
      "metadata": {
        "colab": {
          "base_uri": "https://localhost:8080/",
          "height": 206
        },
        "id": "rHKDbkHVTBia",
        "outputId": "a6bf0d91-e002-426f-9489-363f664000e5"
      },
      "outputs": [],
      "source": []
    },
    {
      "cell_type": "code",
      "execution_count": null,
      "metadata": {},
      "outputs": [],
      "source": []
    },
    {
      "cell_type": "markdown",
      "metadata": {
        "id": "3DqywCVzTBic"
      },
      "source": [
        "Remove all lines that contain empty fields in some columns."
      ]
    },
    {
      "cell_type": "code",
      "execution_count": null,
      "metadata": {
        "colab": {
          "base_uri": "https://localhost:8080/",
          "height": 206
        },
        "id": "7Fs2qCTBTBid",
        "outputId": "02f8c1fb-aaaa-49ad-ac93-0cb8bdbd2563"
      },
      "outputs": [],
      "source": []
    },
    {
      "cell_type": "markdown",
      "metadata": {
        "id": "eOpi6jTnXTBa"
      },
      "source": [
        "What are the unique values of lunch, test preparation course, gender, race/ethnicity and parental level of education?"
      ]
    },
    {
      "cell_type": "code",
      "execution_count": null,
      "metadata": {
        "colab": {
          "base_uri": "https://localhost:8080/"
        },
        "id": "Hs12dA8xYeJX",
        "outputId": "426e2645-cb20-4349-ff4b-4462abce0996"
      },
      "outputs": [],
      "source": []
    },
    {
      "cell_type": "code",
      "execution_count": null,
      "metadata": {
        "colab": {
          "base_uri": "https://localhost:8080/"
        },
        "id": "2SggRsWIYeNi",
        "outputId": "7fa2f9d5-02d4-46f5-9133-8283b10e0674"
      },
      "outputs": [],
      "source": []
    },
    {
      "cell_type": "code",
      "execution_count": null,
      "metadata": {
        "colab": {
          "base_uri": "https://localhost:8080/"
        },
        "id": "6ugGwC8aXSQi",
        "outputId": "d552af2d-3144-4f91-9969-8272eea36e72"
      },
      "outputs": [],
      "source": []
    },
    {
      "cell_type": "code",
      "execution_count": null,
      "metadata": {
        "colab": {
          "base_uri": "https://localhost:8080/"
        },
        "id": "Wz8r0Ujj7m0k",
        "outputId": "06c303ba-2660-4ff5-c3d3-19580cc3073b"
      },
      "outputs": [],
      "source": []
    },
    {
      "cell_type": "code",
      "execution_count": null,
      "metadata": {
        "colab": {
          "base_uri": "https://localhost:8080/"
        },
        "id": "PUAZK3yb7t92",
        "outputId": "1b51e33e-e9b5-43e4-972c-5cdf1024efa7"
      },
      "outputs": [],
      "source": []
    },
    {
      "cell_type": "markdown",
      "metadata": {
        "id": "QQT-z3FJTBid"
      },
      "source": [
        "Replace the textual values of 'lunch', 'test preparation course' and 'gender' by numeric values 0 and 1."
      ]
    },
    {
      "cell_type": "code",
      "execution_count": null,
      "metadata": {
        "colab": {
          "base_uri": "https://localhost:8080/",
          "height": 206
        },
        "id": "DvDxKStnTBid",
        "outputId": "f7eadbc7-d771-4c06-8625-3bb5e75ccf72"
      },
      "outputs": [],
      "source": []
    },
    {
      "cell_type": "code",
      "execution_count": null,
      "metadata": {},
      "outputs": [],
      "source": []
    },
    {
      "cell_type": "code",
      "execution_count": null,
      "metadata": {},
      "outputs": [],
      "source": []
    },
    {
      "cell_type": "markdown",
      "metadata": {
        "id": "eV9lyNWhA-yq"
      },
      "source": [
        "\n",
        "Later on we will make a prediction model for the 'math score'. Remove the column or columns that are not relevant for this purpose.\n"
      ]
    },
    {
      "cell_type": "code",
      "execution_count": null,
      "metadata": {
        "colab": {
          "base_uri": "https://localhost:8080/",
          "height": 206
        },
        "id": "3c7UDSdBeQWi",
        "outputId": "6363e449-d0bc-47a7-f58c-b6b102df6baa"
      },
      "outputs": [],
      "source": []
    },
    {
      "cell_type": "markdown",
      "metadata": {
        "id": "00737uOHBOaH"
      },
      "source": [
        "What is X and what is y?"
      ]
    },
    {
      "cell_type": "code",
      "execution_count": null,
      "metadata": {
        "id": "CWrrhqDiupjD"
      },
      "outputs": [],
      "source": []
    },
    {
      "cell_type": "markdown",
      "metadata": {
        "id": "JAUsFiMUBTeh"
      },
      "source": [
        "What is X_train, y_train, X_test, y_test?"
      ]
    },
    {
      "cell_type": "code",
      "execution_count": null,
      "metadata": {
        "id": "hCFJ2JinujNv"
      },
      "outputs": [],
      "source": []
    },
    {
      "cell_type": "markdown",
      "metadata": {
        "id": "XeAYhjlFB5D1"
      },
      "source": [
        "What is the shape of X_train, y_train, X_test and y_test?"
      ]
    },
    {
      "cell_type": "code",
      "execution_count": null,
      "metadata": {
        "colab": {
          "base_uri": "https://localhost:8080/"
        },
        "id": "kPNGQrvCvNK0",
        "outputId": "75966b4f-7681-4ec4-84c7-1993ed949bcf"
      },
      "outputs": [],
      "source": []
    },
    {
      "cell_type": "markdown",
      "metadata": {
        "id": "43UzjKXqCCXF"
      },
      "source": [
        "What are the columns containing numbers?"
      ]
    },
    {
      "cell_type": "code",
      "execution_count": null,
      "metadata": {
        "colab": {
          "base_uri": "https://localhost:8080/"
        },
        "id": "9yRPEsdWsTMM",
        "outputId": "3281f3fd-01ea-4eb6-836c-024e77cd8802"
      },
      "outputs": [],
      "source": []
    },
    {
      "cell_type": "markdown",
      "metadata": {
        "id": "7wcba4xxCJMY"
      },
      "source": [
        "What are the columns containing text?"
      ]
    },
    {
      "cell_type": "code",
      "execution_count": null,
      "metadata": {
        "colab": {
          "base_uri": "https://localhost:8080/"
        },
        "id": "rbjXTnxGCQ6w",
        "outputId": "91df6867-3c9b-42c1-b8fc-9058ea36d43f"
      },
      "outputs": [],
      "source": []
    },
    {
      "cell_type": "markdown",
      "metadata": {
        "id": "vhl_xIO4CV1x"
      },
      "source": [
        "Define the ColumnTransformer for applying OneHotEncoder on both categorical columns.  \n",
        "Why is one-hot-encoding preferable over numeric values in this case?"
      ]
    },
    {
      "cell_type": "code",
      "execution_count": null,
      "metadata": {
        "id": "R0tyYyg5sK2W"
      },
      "outputs": [],
      "source": []
    },
    {
      "cell_type": "markdown",
      "metadata": {
        "id": "KX_uLMgf8LU6"
      },
      "source": [
        "The dictionary below consists of the model Linear SVM Regression.  \n",
        "Add a model for SVM Regression, using a 2nd-degree polynomial kernel."
      ]
    },
    {
      "cell_type": "code",
      "execution_count": null,
      "metadata": {
        "id": "defs6VcC7uvq"
      },
      "outputs": [],
      "source": []
    },
    {
      "cell_type": "markdown",
      "metadata": {
        "id": "a5TOcYCA9iWA"
      },
      "source": [
        "For each of both models: \n",
        "* Define the data preparation and modeling pipeline\n",
        "* Train the model\n",
        "* What is the accuracy of the model, expressed as MAE? Use K-fold cross-validation with k = 3."
      ]
    },
    {
      "cell_type": "code",
      "execution_count": null,
      "metadata": {
        "colab": {
          "base_uri": "https://localhost:8080/"
        },
        "id": "tARvZsEa8u16",
        "outputId": "0d73044e-8b74-4ff2-cc34-e51a59cbff84"
      },
      "outputs": [],
      "source": []
    },
    {
      "attachments": {},
      "cell_type": "markdown",
      "metadata": {
        "id": "_vLu0JIL_jDh"
      },
      "source": [
        "Find the best value for parameter epsilon for the linear model using GridSearchCV with three folds. "
      ]
    },
    {
      "cell_type": "code",
      "execution_count": null,
      "metadata": {
        "colab": {
          "base_uri": "https://localhost:8080/"
        },
        "id": "FntncW1dEOlN",
        "outputId": "ee67c7e3-68c3-4edd-c302-bbe85942bca0"
      },
      "outputs": [],
      "source": [
        "\n"
      ]
    },
    {
      "attachments": {},
      "cell_type": "markdown",
      "metadata": {
        "id": "WuetJPOPRUt-"
      },
      "source": [
        "Use GridSearchCV to find the best parameters for the non-linear SVM regression task with little regularization (C is a large value)\n",
        "* epsilon = 0.1, 0.5, 1.0, 1.5, 2.0, 2.5, 3.0, 3.5 \n",
        "* kernel' = 'rbf', 'poly', 'sigmoid', 'linear'\n",
        "* degree = [1, 2, 3]\n",
        "\n",
        "\n"
      ]
    },
    {
      "cell_type": "code",
      "execution_count": null,
      "metadata": {
        "id": "P2t9wPS893Kh"
      },
      "outputs": [],
      "source": []
    },
    {
      "attachments": {},
      "cell_type": "markdown",
      "metadata": {},
      "source": [
        "Is it worth using non-linear SVM iso linear SVM? "
      ]
    },
    {
      "attachments": {},
      "cell_type": "markdown",
      "metadata": {},
      "source": []
    }
  ],
  "metadata": {
    "colab": {
      "collapsed_sections": [],
      "name": "Demographic Studentscore SVM Solution.ipynb",
      "provenance": []
    },
    "kernelspec": {
      "display_name": ".venv",
      "language": "python",
      "name": "python3"
    },
    "language_info": {
      "codemirror_mode": {
        "name": "ipython",
        "version": 3
      },
      "file_extension": ".py",
      "mimetype": "text/x-python",
      "name": "python",
      "nbconvert_exporter": "python",
      "pygments_lexer": "ipython3",
      "version": "3.12.11"
    }
  },
  "nbformat": 4,
  "nbformat_minor": 0
}
