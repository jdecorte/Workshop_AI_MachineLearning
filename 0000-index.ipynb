{
 "cells": [
  {
   "attachments": {},
   "cell_type": "markdown",
   "metadata": {
    "slideshow": {
     "slide_type": "-"
    }
   },
   "source": [
    "\n",
    "# Machine Learning\n",
    "#### Johan Decorte\n",
    "\n",
    ">_The development of full artificial intelligence could spell_\n",
    ">_the end of the human race….It would take off on its own,_ \n",
    ">_and re-design itself at an ever-increasing rate._ \n",
    ">_Humans, who are limited by slow biological evolution,_ \n",
    ">_couldn’t compete, and would be superseded.”_\n",
    ">\n",
    ">Stephen Hawking, BBC\n",
    "    \n",
    "\n",
    "## INTRODUCTION\n",
    "\n",
    "This course is mainly based on the following book.   \n",
    "\n",
    "![Hands-on Machine Learning with Scikit-Learn, Keras, and TensorFlow (3d edition)](img/book.png).    \n",
    "\n",
    "This book is an integral part of the course and is as such mandatory lecture. The book is available for free through the database EBSCO eBook Academic Collection: \n",
    "https://search.ebscohost.com/login.aspx?direct=true&db=nlebk&AN=3406174&site=ehost-live  (from within the HOGENT network). \n",
    "\n",
    "## Table of Contents\n",
    "0. [Introduction](0000-introduction.pdf)\n",
    "1. The Machine Learning Landscape\n",
    "    1. [Slides](0110-the_machine_learning_landscape.pdf)\n",
    "       1. [Example](0111-the_machine_learning_landscape.ipynb)\n",
    "    2. Overview of supporting libraries (for reference purposes)\n",
    "       1. [Numpy](0121-numpy.ipynb)\n",
    "       2. [Pandas](0122-pandas.ipynb)\n",
    "       3. [Matplotlib](0123-matplotlib.ipynb)\n",
    "2. End-toEnd Machine Learning Project\n",
    "    1. [Notebook](0210-end_to_end_machine_learning_project.ipynb)  \n",
    "    2. [Excercise \"SOLAR\"](0230-exercise_solar.ipynb)\n",
    "3. Classification\n",
    "    1. [Notebook](0310-classification.ipynb)\n",
    "    2. [Exercise \"Heart\"](0320-exercise_heart.ipynb)\n",
    "4. Training Models\n",
    "    1. [Notebook](0410-training_models.ipynb)\n",
    "    2. [Exercise \"Women Clothing Sizes Prediction\"](0420-women_clothing_sizes_prediction.ipynb)\n",
    "5. Support Vector Machines\n",
    "    1. [Notebook](0510-support_vector_machines.ipynb)\n",
    "    2. [Exercise \"Students score\"](0520-exercise_demographic_studentscore_svm.ipynb)\n",
    "6. Decision Trees\n",
    "    1. [Notebook](0610-decision_trees.ipynb)\n",
    "    2. [Exercise \"Penguins\"](0620-exercise_penguins.ipynb)\n",
    "7. Ensemble Learning and Random Forests\n",
    "    1. [Notebook](0710-ensemble_learning_and_random_forests.ipynb)\n",
    "    2. [Exercise \"Churn\"](0720-exercise_churn.ipynb)\n",
    "8. Dimensionality Reduction\n",
    "    1. [Notebook](0810-dimensionality_reduction.ipynb)\n",
    "    2. [Exercise Faces](0820-faces.ipynb)\n",
    "    3. [Exercise Wholesale Customers](830_exercise_wholesale.ipynb)\n",
    "9. Unsupervised Learning Techniques  \n",
    "    1.  [Notebook Clustering](0910-unsupervised_learning.ipynb)  \n",
    "    2.  [Exercise Faces](0920-unsupervised_learning_exercise.ipynb)  \n",
    "    3.  [Exericse Anomaly Detection](0921-exercise_anonomaly_detection.ipynb)\n",
    "    4.  [Theory Association Rules](0930-association_rules_theory.ipynb)\n",
    "    5.  [Demo Association Rules](0931-association_rules_demo.ipynb)\n",
    "    6.  [Exercise Association Rules](0932-association_rules_exercise.ipynb)\n",
    "10. Artificial Neural Networks with Keras\n",
    "    1. [Neural Nets with Keras](1010-neural_nets_with_keras.ipynb)\n",
    "    2. [Exercise \"Penguins\"](1011-exercise_penguins.ipynb)\n",
    "11. Training Deep Neural Networks\n",
    "    1. [Training DNN](1110-training_deep_neural_networks.ipynb)\n",
    "    2. [Exercise \"Churn\"](1111-exercise_churn.ipynb)\n",
    "12. Deep Computer Vision with CNNs\n",
    "    1. [Deep Computer Vision](1210-deep_computer_vision_with_cnns.ipynb)\n",
    "    2. [Excercise \"MNIST\"](1211-deep_computer_vision_with_cnns_exercise_mnist.ipynb)\n",
    "13. [Pretrained Models and Large Language Models](1310-selftrained_pretrained_or_LLM.ipynb)\n",
    "\n",
    "14. NLP\n",
    "    1. [NLP in Python](1410-nlp.ipynb)\n",
    "\n",
    "[Solutions of exercises](./solutions)\n"
   ]
  }
 ],
 "metadata": {
  "celltoolbar": "Slideshow",
  "kernelspec": {
   "display_name": "Python 3",
   "language": "python",
   "name": "python3"
  },
  "language_info": {
   "codemirror_mode": {
    "name": "ipython",
    "version": 3
   },
   "file_extension": ".py",
   "mimetype": "text/x-python",
   "name": "python",
   "nbconvert_exporter": "python",
   "pygments_lexer": "ipython3",
   "version": "3.10.10"
  },
  "nbTranslate": {
   "displayLangs": [
    "*"
   ],
   "hotkey": "alt-t",
   "langInMainMenu": true,
   "sourceLang": "en",
   "targetLang": "fr",
   "useGoogleTranslate": true
  },
  "rise": {
   "scroll": true
  },
  "vscode": {
   "interpreter": {
    "hash": "06695702c909af4d2de424dd0ca7f59dcd2ee8fd94cb47bf2545198e411600f7"
   }
  }
 },
 "nbformat": 4,
 "nbformat_minor": 2
}
